{
 "cells": [
  {
   "cell_type": "code",
   "execution_count": 93,
   "metadata": {},
   "outputs": [],
   "source": [
    "import pandas as pd\n",
    "import numpy as np \n",
    "from google_play_scraper import app ,reviews_all,reviews, Sort\n",
    "import os "
   ]
  },
  {
   "cell_type": "code",
   "execution_count": 94,
   "metadata": {},
   "outputs": [],
   "source": [
    "os.chdir('C:/Users/saksh/OneDrive/Desktop/pratice/NLP/nlp-getting-started')\n",
    "df_new = pd.read_excel('math_app_list.xlsx')"
   ]
  },
  {
   "cell_type": "code",
   "execution_count": 95,
   "metadata": {},
   "outputs": [
    {
     "data": {
      "text/html": [
       "<div>\n",
       "<style scoped>\n",
       "    .dataframe tbody tr th:only-of-type {\n",
       "        vertical-align: middle;\n",
       "    }\n",
       "\n",
       "    .dataframe tbody tr th {\n",
       "        vertical-align: top;\n",
       "    }\n",
       "\n",
       "    .dataframe thead th {\n",
       "        text-align: right;\n",
       "    }\n",
       "</style>\n",
       "<table border=\"1\" class=\"dataframe\">\n",
       "  <thead>\n",
       "    <tr style=\"text-align: right;\">\n",
       "      <th></th>\n",
       "      <th>title</th>\n",
       "      <th>app_id</th>\n",
       "    </tr>\n",
       "  </thead>\n",
       "  <tbody>\n",
       "    <tr>\n",
       "      <th>0</th>\n",
       "      <td>Photomath</td>\n",
       "      <td>com.microblink.photomath</td>\n",
       "    </tr>\n",
       "    <tr>\n",
       "      <th>1</th>\n",
       "      <td>Microsoft Math Solver</td>\n",
       "      <td>com.microsoft.math</td>\n",
       "    </tr>\n",
       "    <tr>\n",
       "      <th>2</th>\n",
       "      <td>Gauthmath-Math Homework Helper</td>\n",
       "      <td>com.education.android.h.intelligence</td>\n",
       "    </tr>\n",
       "    <tr>\n",
       "      <th>3</th>\n",
       "      <td>Mathway: Scan &amp; Solve Problems</td>\n",
       "      <td>com.bagatrix.mathway.android</td>\n",
       "    </tr>\n",
       "    <tr>\n",
       "      <th>4</th>\n",
       "      <td>Learn Math &amp; Math problems</td>\n",
       "      <td>com.companyname.MaturaMatematyka</td>\n",
       "    </tr>\n",
       "    <tr>\n",
       "      <th>...</th>\n",
       "      <td>...</td>\n",
       "      <td>...</td>\n",
       "    </tr>\n",
       "    <tr>\n",
       "      <th>739</th>\n",
       "      <td>B.S. GREWAL - HIGHER ENGINEERING MATHEMATICS-E...</td>\n",
       "      <td>thakursourav12.engineeringmath</td>\n",
       "    </tr>\n",
       "    <tr>\n",
       "      <th>740</th>\n",
       "      <td>precalculus</td>\n",
       "      <td>com.zaido.precalculuslearncourse</td>\n",
       "    </tr>\n",
       "    <tr>\n",
       "      <th>741</th>\n",
       "      <td>xCalc</td>\n",
       "      <td>com.bavichugo.xcalc</td>\n",
       "    </tr>\n",
       "    <tr>\n",
       "      <th>742</th>\n",
       "      <td>Elementary</td>\n",
       "      <td>uk.ac.cam.sp715.casapp</td>\n",
       "    </tr>\n",
       "    <tr>\n",
       "      <th>743</th>\n",
       "      <td>Math. Limits</td>\n",
       "      <td>air.LimsEnFree</td>\n",
       "    </tr>\n",
       "  </tbody>\n",
       "</table>\n",
       "<p>744 rows × 2 columns</p>\n",
       "</div>"
      ],
      "text/plain": [
       "                                                 title  \\\n",
       "0                                            Photomath   \n",
       "1                                Microsoft Math Solver   \n",
       "2                       Gauthmath-Math Homework Helper   \n",
       "3                       Mathway: Scan & Solve Problems   \n",
       "4                           Learn Math & Math problems   \n",
       "..                                                 ...   \n",
       "739  B.S. GREWAL - HIGHER ENGINEERING MATHEMATICS-E...   \n",
       "740                                        precalculus   \n",
       "741                                              xCalc   \n",
       "742                                         Elementary   \n",
       "743                                       Math. Limits   \n",
       "\n",
       "                                   app_id  \n",
       "0                com.microblink.photomath  \n",
       "1                      com.microsoft.math  \n",
       "2    com.education.android.h.intelligence  \n",
       "3            com.bagatrix.mathway.android  \n",
       "4        com.companyname.MaturaMatematyka  \n",
       "..                                    ...  \n",
       "739        thakursourav12.engineeringmath  \n",
       "740      com.zaido.precalculuslearncourse  \n",
       "741                   com.bavichugo.xcalc  \n",
       "742                uk.ac.cam.sp715.casapp  \n",
       "743                        air.LimsEnFree  \n",
       "\n",
       "[744 rows x 2 columns]"
      ]
     },
     "execution_count": 95,
     "metadata": {},
     "output_type": "execute_result"
    }
   ],
   "source": [
    "df_new"
   ]
  },
  {
   "cell_type": "code",
   "execution_count": 96,
   "metadata": {},
   "outputs": [],
   "source": [
    "app=df_new.drop('title',axis=1)"
   ]
  },
  {
   "cell_type": "code",
   "execution_count": 97,
   "metadata": {},
   "outputs": [
    {
     "data": {
      "text/plain": [
       "app_id    object\n",
       "dtype: object"
      ]
     },
     "execution_count": 97,
     "metadata": {},
     "output_type": "execute_result"
    }
   ],
   "source": [
    "app.dtypes"
   ]
  },
  {
   "cell_type": "code",
   "execution_count": 98,
   "metadata": {},
   "outputs": [
    {
     "data": {
      "text/html": [
       "<div>\n",
       "<style scoped>\n",
       "    .dataframe tbody tr th:only-of-type {\n",
       "        vertical-align: middle;\n",
       "    }\n",
       "\n",
       "    .dataframe tbody tr th {\n",
       "        vertical-align: top;\n",
       "    }\n",
       "\n",
       "    .dataframe thead th {\n",
       "        text-align: right;\n",
       "    }\n",
       "</style>\n",
       "<table border=\"1\" class=\"dataframe\">\n",
       "  <thead>\n",
       "    <tr style=\"text-align: right;\">\n",
       "      <th></th>\n",
       "      <th>app_id</th>\n",
       "    </tr>\n",
       "  </thead>\n",
       "  <tbody>\n",
       "    <tr>\n",
       "      <th>0</th>\n",
       "      <td>com.microblink.photomath</td>\n",
       "    </tr>\n",
       "    <tr>\n",
       "      <th>1</th>\n",
       "      <td>com.microsoft.math</td>\n",
       "    </tr>\n",
       "    <tr>\n",
       "      <th>2</th>\n",
       "      <td>com.education.android.h.intelligence</td>\n",
       "    </tr>\n",
       "    <tr>\n",
       "      <th>3</th>\n",
       "      <td>com.bagatrix.mathway.android</td>\n",
       "    </tr>\n",
       "    <tr>\n",
       "      <th>4</th>\n",
       "      <td>com.companyname.MaturaMatematyka</td>\n",
       "    </tr>\n",
       "    <tr>\n",
       "      <th>...</th>\n",
       "      <td>...</td>\n",
       "    </tr>\n",
       "    <tr>\n",
       "      <th>739</th>\n",
       "      <td>thakursourav12.engineeringmath</td>\n",
       "    </tr>\n",
       "    <tr>\n",
       "      <th>740</th>\n",
       "      <td>com.zaido.precalculuslearncourse</td>\n",
       "    </tr>\n",
       "    <tr>\n",
       "      <th>741</th>\n",
       "      <td>com.bavichugo.xcalc</td>\n",
       "    </tr>\n",
       "    <tr>\n",
       "      <th>742</th>\n",
       "      <td>uk.ac.cam.sp715.casapp</td>\n",
       "    </tr>\n",
       "    <tr>\n",
       "      <th>743</th>\n",
       "      <td>air.LimsEnFree</td>\n",
       "    </tr>\n",
       "  </tbody>\n",
       "</table>\n",
       "<p>744 rows × 1 columns</p>\n",
       "</div>"
      ],
      "text/plain": [
       "                                   app_id\n",
       "0                com.microblink.photomath\n",
       "1                      com.microsoft.math\n",
       "2    com.education.android.h.intelligence\n",
       "3            com.bagatrix.mathway.android\n",
       "4        com.companyname.MaturaMatematyka\n",
       "..                                    ...\n",
       "739        thakursourav12.engineeringmath\n",
       "740      com.zaido.precalculuslearncourse\n",
       "741                   com.bavichugo.xcalc\n",
       "742                uk.ac.cam.sp715.casapp\n",
       "743                        air.LimsEnFree\n",
       "\n",
       "[744 rows x 1 columns]"
      ]
     },
     "execution_count": 98,
     "metadata": {},
     "output_type": "execute_result"
    }
   ],
   "source": [
    "app"
   ]
  },
  {
   "cell_type": "code",
   "execution_count": 99,
   "metadata": {},
   "outputs": [],
   "source": [
    "app1=np.array(app)"
   ]
  },
  {
   "cell_type": "code",
   "execution_count": 100,
   "metadata": {},
   "outputs": [
    {
     "data": {
      "text/plain": [
       "array(['com.bangdev.freakingmath'], dtype=object)"
      ]
     },
     "execution_count": 100,
     "metadata": {},
     "output_type": "execute_result"
    }
   ],
   "source": [
    "app1[21]"
   ]
  },
  {
   "cell_type": "code",
   "execution_count": 155,
   "metadata": {},
   "outputs": [
    {
     "name": "stdout",
     "output_type": "stream",
     "text": [
      "com.microblink.photomath\n",
      "Done0\n",
      "com.microsoft.math\n",
      "Done1\n",
      "com.education.android.h.intelligence\n",
      "Done2\n",
      "com.bagatrix.mathway.android\n",
      "Done3\n",
      "com.companyname.MaturaMatematyka\n",
      "Done4\n",
      "example.matharithmetics\n",
      "Done5\n",
      "com.mathpresso.qanda\n",
      "Done6\n",
      "com.math.photo.scanner.equation.formula.calculator\n",
      "Done7\n",
      "com.closeapps.mathrun\n",
      "Done8\n",
      "com.GamesForKids.Mathgames.MultiplicationTables\n",
      "Done9\n",
      "com.BlackGames.MathRiddles\n",
      "Done10\n",
      "com.devsense.symbolab\n",
      "Done11\n",
      "com.cymath.cymath\n",
      "Done12\n",
      "com.akbur.mathsworkout\n",
      "Done13\n",
      "de.softan.multiplication.table\n",
      "Done14\n",
      "com.MathUnderground.MathSolver\n",
      "Done15\n",
      "com.epsilon.division\n",
      "Done16\n",
      "com.cuelearn.cuemathapp\n",
      "Done17\n",
      "com.nsc.mathformulas.lite\n",
      "Done18\n"
     ]
    }
   ],
   "source": [
    "for i in range(0,19):\n",
    "    new_app=app1[i].astype(str)\n",
    "    print(app1[i][0])\n",
    "    df[i],ef=reviews(app1[i][0],lang ='en',country ='us',count=530)\n",
    "    print('Done'+ str(i))\n"
   ]
  },
  {
   "cell_type": "code",
   "execution_count": 124,
   "metadata": {},
   "outputs": [
    {
     "data": {
      "text/plain": [
       "[{'reviewId': '9397b590-3c47-42cf-b3ef-940042d457f4',\n",
       "  'userName': 'jayvee bisnar',\n",
       "  'userImage': 'https://play-lh.googleusercontent.com/a/AEdFTp5xzx7dftbcQtBImQvROoxWbAhZuyWVEEeUPN0B=mo',\n",
       "  'content': 'very cool',\n",
       "  'score': 5,\n",
       "  'thumbsUpCount': 0,\n",
       "  'reviewCreatedVersion': '1.17.0',\n",
       "  'at': datetime.datetime(2023, 1, 17, 21, 56, 4),\n",
       "  'replyContent': None,\n",
       "  'repliedAt': None},\n",
       " {'reviewId': '86142860-3b15-47e9-9841-51d19e8b061c',\n",
       "  'userName': 'Savannah Williams',\n",
       "  'userImage': 'https://play-lh.googleusercontent.com/a-/AD5-WCmrdLZ0kQUHMDvUZNnjxJv5HMBJfmM6SXBiOF8Rfw',\n",
       "  'content': \"amazing, can solve all and every problem I've had 😍\",\n",
       "  'score': 5,\n",
       "  'thumbsUpCount': 0,\n",
       "  'reviewCreatedVersion': '1.17.0',\n",
       "  'at': datetime.datetime(2023, 1, 17, 21, 28, 31),\n",
       "  'replyContent': None,\n",
       "  'repliedAt': None},\n",
       " {'reviewId': '16594c05-402d-4b42-aaa7-bf5992297717',\n",
       "  'userName': 'Pearly Suelto',\n",
       "  'userImage': 'https://play-lh.googleusercontent.com/a/AEdFTp4mD7MXCa6mVN3kvbk8J-yA86pzzjKPrhPTJeQL=mo',\n",
       "  'content': 'please help me',\n",
       "  'score': 5,\n",
       "  'thumbsUpCount': 0,\n",
       "  'reviewCreatedVersion': '1.17.0',\n",
       "  'at': datetime.datetime(2023, 1, 17, 20, 46, 34),\n",
       "  'replyContent': None,\n",
       "  'repliedAt': None},\n",
       " {'reviewId': '20a9fa22-d8e8-4423-a76d-9afafaa4ce6f',\n",
       "  'userName': 'sari Samuel',\n",
       "  'userImage': 'https://play-lh.googleusercontent.com/a/AEdFTp6_p-t-XqtW9dRGjrc4wgnz0Wr1vEV20pLfqyBk=mo',\n",
       "  'content': \"I like how it doesn't ask for a premium to show you more steps and it explains so well\",\n",
       "  'score': 5,\n",
       "  'thumbsUpCount': 0,\n",
       "  'reviewCreatedVersion': '1.17.0',\n",
       "  'at': datetime.datetime(2023, 1, 17, 20, 41, 38),\n",
       "  'replyContent': None,\n",
       "  'repliedAt': None},\n",
       " {'reviewId': '4148af67-2adc-4d5f-9215-addccf6514cd',\n",
       "  'userName': 'Tulashi Bokati',\n",
       "  'userImage': 'https://play-lh.googleusercontent.com/a-/AD5-WCmhIr-mmpXNWNxG657vaFuREPUNoABMYwf7bIpY0w',\n",
       "  'content': 'best math app',\n",
       "  'score': 5,\n",
       "  'thumbsUpCount': 0,\n",
       "  'reviewCreatedVersion': '1.17.0',\n",
       "  'at': datetime.datetime(2023, 1, 17, 19, 19, 47),\n",
       "  'replyContent': None,\n",
       "  'repliedAt': None}]"
      ]
     },
     "execution_count": 124,
     "metadata": {},
     "output_type": "execute_result"
    }
   ],
   "source": [
    "df[3]"
   ]
  },
  {
   "cell_type": "code",
   "execution_count": 180,
   "metadata": {},
   "outputs": [],
   "source": [
    "data18=pd.DataFrame(np.array(df[18]),columns=['review'])\n",
    "data18=data18.join(pd.DataFrame(data18.pop('review').tolist()))"
   ]
  },
  {
   "cell_type": "code",
   "execution_count": 159,
   "metadata": {},
   "outputs": [
    {
     "data": {
      "text/plain": [
       "(530, 10)"
      ]
     },
     "execution_count": 159,
     "metadata": {},
     "output_type": "execute_result"
    }
   ],
   "source": [
    "data1.shape"
   ]
  },
  {
   "cell_type": "code",
   "execution_count": 181,
   "metadata": {},
   "outputs": [],
   "source": [
    "new_data=pd.concat([data0,data1,data2,data3,data4,data5,data6,data7,data8,data9,data10,data11,data12,data13,data14,data15,data16,data17,data18])"
   ]
  },
  {
   "cell_type": "code",
   "execution_count": 182,
   "metadata": {},
   "outputs": [
    {
     "data": {
      "text/plain": [
       "(10070, 10)"
      ]
     },
     "execution_count": 182,
     "metadata": {},
     "output_type": "execute_result"
    }
   ],
   "source": [
    "new_data.shape"
   ]
  },
  {
   "cell_type": "code",
   "execution_count": 184,
   "metadata": {},
   "outputs": [],
   "source": [
    "new_data.to_excel('saved4.xlsx')"
   ]
  },
  {
   "cell_type": "code",
   "execution_count": null,
   "metadata": {},
   "outputs": [],
   "source": [
    "df2 = pd.read_excel('saved1.xlsx')"
   ]
  },
  {
   "cell_type": "code",
   "execution_count": 183,
   "metadata": {},
   "outputs": [
    {
     "data": {
      "text/html": [
       "<div>\n",
       "<style scoped>\n",
       "    .dataframe tbody tr th:only-of-type {\n",
       "        vertical-align: middle;\n",
       "    }\n",
       "\n",
       "    .dataframe tbody tr th {\n",
       "        vertical-align: top;\n",
       "    }\n",
       "\n",
       "    .dataframe thead th {\n",
       "        text-align: right;\n",
       "    }\n",
       "</style>\n",
       "<table border=\"1\" class=\"dataframe\">\n",
       "  <thead>\n",
       "    <tr style=\"text-align: right;\">\n",
       "      <th></th>\n",
       "      <th>Unnamed: 0</th>\n",
       "      <th>reviewId</th>\n",
       "      <th>userName</th>\n",
       "      <th>userImage</th>\n",
       "      <th>content</th>\n",
       "      <th>score</th>\n",
       "      <th>thumbsUpCount</th>\n",
       "      <th>reviewCreatedVersion</th>\n",
       "      <th>at</th>\n",
       "      <th>replyContent</th>\n",
       "      <th>repliedAt</th>\n",
       "    </tr>\n",
       "  </thead>\n",
       "  <tbody>\n",
       "    <tr>\n",
       "      <th>0</th>\n",
       "      <td>0</td>\n",
       "      <td>153c09f1-5256-4740-8a31-8112846df9b8</td>\n",
       "      <td>Travor Samuel</td>\n",
       "      <td>https://play-lh.googleusercontent.com/a-/AD5-W...</td>\n",
       "      <td>love it</td>\n",
       "      <td>4</td>\n",
       "      <td>0</td>\n",
       "      <td>6.2.1</td>\n",
       "      <td>2023-01-16 02:58:40</td>\n",
       "      <td>NaN</td>\n",
       "      <td>NaN</td>\n",
       "    </tr>\n",
       "    <tr>\n",
       "      <th>1</th>\n",
       "      <td>1</td>\n",
       "      <td>00f39e63-3039-4266-9a24-2abddefce7b4</td>\n",
       "      <td>Matej Kruzik</td>\n",
       "      <td>https://play-lh.googleusercontent.com/a-/AD5-W...</td>\n",
       "      <td>It is an okay app but if I don't know somethin...</td>\n",
       "      <td>3</td>\n",
       "      <td>0</td>\n",
       "      <td>6.2.1</td>\n",
       "      <td>2023-01-14 21:57:46</td>\n",
       "      <td>NaN</td>\n",
       "      <td>NaN</td>\n",
       "    </tr>\n",
       "    <tr>\n",
       "      <th>2</th>\n",
       "      <td>2</td>\n",
       "      <td>f480defa-a6d5-483a-b8db-a2ee58153ea7</td>\n",
       "      <td>Aradhya verma</td>\n",
       "      <td>https://play-lh.googleusercontent.com/a-/AD5-W...</td>\n",
       "      <td>Very very good</td>\n",
       "      <td>5</td>\n",
       "      <td>0</td>\n",
       "      <td>6.2.1</td>\n",
       "      <td>2023-01-14 15:14:20</td>\n",
       "      <td>NaN</td>\n",
       "      <td>NaN</td>\n",
       "    </tr>\n",
       "    <tr>\n",
       "      <th>3</th>\n",
       "      <td>3</td>\n",
       "      <td>61279b67-a162-4a7c-96ac-3b86f53523df</td>\n",
       "      <td>Princess Amina Ibrahim</td>\n",
       "      <td>https://play-lh.googleusercontent.com/a-/AD5-W...</td>\n",
       "      <td>it's really helpful</td>\n",
       "      <td>3</td>\n",
       "      <td>0</td>\n",
       "      <td>6.2.1</td>\n",
       "      <td>2023-01-14 00:13:42</td>\n",
       "      <td>NaN</td>\n",
       "      <td>NaN</td>\n",
       "    </tr>\n",
       "    <tr>\n",
       "      <th>4</th>\n",
       "      <td>4</td>\n",
       "      <td>c0cbb892-e83d-4865-8cef-682b4e99bb21</td>\n",
       "      <td>Moses</td>\n",
       "      <td>https://play-lh.googleusercontent.com/a/AEdFTp...</td>\n",
       "      <td>Great app for learning and developing in Mathe...</td>\n",
       "      <td>4</td>\n",
       "      <td>0</td>\n",
       "      <td>6.2.1</td>\n",
       "      <td>2023-01-13 22:29:18</td>\n",
       "      <td>NaN</td>\n",
       "      <td>NaN</td>\n",
       "    </tr>\n",
       "  </tbody>\n",
       "</table>\n",
       "</div>"
      ],
      "text/plain": [
       "   Unnamed: 0                              reviewId                userName  \\\n",
       "0           0  153c09f1-5256-4740-8a31-8112846df9b8           Travor Samuel   \n",
       "1           1  00f39e63-3039-4266-9a24-2abddefce7b4            Matej Kruzik   \n",
       "2           2  f480defa-a6d5-483a-b8db-a2ee58153ea7           Aradhya verma   \n",
       "3           3  61279b67-a162-4a7c-96ac-3b86f53523df  Princess Amina Ibrahim   \n",
       "4           4  c0cbb892-e83d-4865-8cef-682b4e99bb21                   Moses   \n",
       "\n",
       "                                           userImage  \\\n",
       "0  https://play-lh.googleusercontent.com/a-/AD5-W...   \n",
       "1  https://play-lh.googleusercontent.com/a-/AD5-W...   \n",
       "2  https://play-lh.googleusercontent.com/a-/AD5-W...   \n",
       "3  https://play-lh.googleusercontent.com/a-/AD5-W...   \n",
       "4  https://play-lh.googleusercontent.com/a/AEdFTp...   \n",
       "\n",
       "                                             content  score  thumbsUpCount  \\\n",
       "0                                            love it      4              0   \n",
       "1  It is an okay app but if I don't know somethin...      3              0   \n",
       "2                                     Very very good      5              0   \n",
       "3                                it's really helpful      3              0   \n",
       "4  Great app for learning and developing in Mathe...      4              0   \n",
       "\n",
       "  reviewCreatedVersion                  at  replyContent  repliedAt  \n",
       "0                6.2.1 2023-01-16 02:58:40           NaN        NaN  \n",
       "1                6.2.1 2023-01-14 21:57:46           NaN        NaN  \n",
       "2                6.2.1 2023-01-14 15:14:20           NaN        NaN  \n",
       "3                6.2.1 2023-01-14 00:13:42           NaN        NaN  \n",
       "4                6.2.1 2023-01-13 22:29:18           NaN        NaN  "
      ]
     },
     "execution_count": 183,
     "metadata": {},
     "output_type": "execute_result"
    }
   ],
   "source": [
    "df2.head()"
   ]
  },
  {
   "cell_type": "code",
   "execution_count": null,
   "metadata": {},
   "outputs": [],
   "source": [
    "# To clear about the loop \n",
    "# To clear about the classification problem how to give the names to it \n",
    "# To creat the very positive postive negative very negative and newtral revies system idea from sir "
   ]
  },
  {
   "cell_type": "code",
   "execution_count": null,
   "metadata": {},
   "outputs": [],
   "source": []
  },
  {
   "cell_type": "code",
   "execution_count": null,
   "metadata": {},
   "outputs": [],
   "source": []
  }
 ],
 "metadata": {
  "kernelspec": {
   "display_name": "Python 3",
   "language": "python",
   "name": "python3"
  },
  "language_info": {
   "codemirror_mode": {
    "name": "ipython",
    "version": 3
   },
   "file_extension": ".py",
   "mimetype": "text/x-python",
   "name": "python",
   "nbconvert_exporter": "python",
   "pygments_lexer": "ipython3",
   "version": "3.10.5"
  },
  "orig_nbformat": 4,
  "vscode": {
   "interpreter": {
    "hash": "b391e30338597a82e75bec97af1c333c6f7450c1c30a079ac81c80bd19bf1984"
   }
  }
 },
 "nbformat": 4,
 "nbformat_minor": 2
}
